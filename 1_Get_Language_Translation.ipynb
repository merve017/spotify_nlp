{
 "cells": [
  {
   "cell_type": "code",
   "execution_count": 2,
   "metadata": {},
   "outputs": [],
   "source": [
    "import pandas as pd\n",
    "from langdetect import detect\n",
    "from langdetect import detect_langs\n",
    "import deepl\n",
    "import matplotlib.pyplot as plt"
   ]
  },
  {
   "cell_type": "code",
   "execution_count": 3,
   "metadata": {},
   "outputs": [
    {
     "data": {
      "text/plain": [
       "Index(['Unnamed: 0', 'acousticness', 'album_id', 'analysis_url', 'artists_id',\n",
       "       'available_markets', 'country', 'danceability', 'disc_number',\n",
       "       'duration_ms', 'energy', 'href', 'id', 'instrumentalness', 'key',\n",
       "       'liveness', 'loudness', 'lyrics', 'mode', 'name', 'playlist',\n",
       "       'popularity', 'preview_url', 'speechiness', 'tempo', 'time_signature',\n",
       "       'track_href', 'track_name_prev', 'track_number', 'uri', 'valence',\n",
       "       'type'],\n",
       "      dtype='object')"
      ]
     },
     "execution_count": 3,
     "metadata": {},
     "output_type": "execute_result"
    }
   ],
   "source": [
    "#read data\n",
    "tracks= pd.read_csv('data/spotify_tracks.csv')\n",
    "#get column names\n",
    "columns = tracks.columns\n",
    "columns"
   ]
  },
  {
   "cell_type": "code",
   "execution_count": 4,
   "metadata": {},
   "outputs": [],
   "source": [
    "#replace \\r\\n' with  ' '\n",
    "tracks['lyrics']=tracks['lyrics'].str.replace('\\r\\n', ' ')\n",
    "#drop \n",
    "tracks=tracks.dropna(subset=['lyrics'])\n",
    "#Remove rows of repeating lyrics\n",
    "tracks = tracks.drop_duplicates(subset='lyrics', keep='first').reset_index()"
   ]
  },
  {
   "cell_type": "code",
   "execution_count": 5,
   "metadata": {},
   "outputs": [],
   "source": [
    "#function to detect the language\n",
    "def detect_language_and_confidence(df, column_name):\n",
    "    def get_lang_confidence(text):\n",
    "        try:\n",
    "            detected = detect_langs(text)\n",
    "            # Assuming the most probable language is the one we want\n",
    "            lang = detected[0].lang\n",
    "            conf = detected[0].prob\n",
    "            return lang, conf\n",
    "        except:\n",
    "            return 'unknown', None\n",
    "    #write language and confidence to new df column\n",
    "    df['language'], df['confidence'] = zip(*df[column_name].map(get_lang_confidence))\n",
    "    \n",
    "    return df"
   ]
  },
  {
   "cell_type": "code",
   "execution_count": 6,
   "metadata": {},
   "outputs": [],
   "source": [
    "#execute function\n",
    "lyrics_lang=detect_language_and_confidence(tracks,'lyrics')\n",
    "c1=lyrics_lang.columns[0]\n",
    "#drop double index\n",
    "tracks_lang = lyrics_lang.drop(columns=c1)"
   ]
  },
  {
   "cell_type": "code",
   "execution_count": 12,
   "metadata": {},
   "outputs": [
    {
     "data": {
      "text/plain": [
       "40816"
      ]
     },
     "execution_count": 12,
     "metadata": {},
     "output_type": "execute_result"
    }
   ],
   "source": [
    "#get number of tracks\n",
    "len(tracks_lang)"
   ]
  },
  {
   "cell_type": "code",
   "execution_count": 11,
   "metadata": {},
   "outputs": [
    {
     "data": {
      "text/plain": [
       "en    25722\n",
       "es     6072\n",
       "pt     1949\n",
       "fr     1433\n",
       "de      882\n",
       "fi      754\n",
       "it      741\n",
       "sv      677\n",
       "da      535\n",
       "nl      450\n",
       "Name: language, dtype: int64"
      ]
     },
     "execution_count": 11,
     "metadata": {},
     "output_type": "execute_result"
    }
   ],
   "source": [
    "#number of tracks per language\n",
    "tracks['language'].value_counts().head(10)"
   ]
  },
  {
   "cell_type": "code",
   "execution_count": 14,
   "metadata": {},
   "outputs": [],
   "source": [
    "#filter out the english songs\n",
    "tracks_non_en=tracks[tracks['language'] != 'en']"
   ]
  },
  {
   "cell_type": "code",
   "execution_count": 69,
   "metadata": {},
   "outputs": [],
   "source": [
    "#try to translate tracks into english using deepl api\n",
    "auth_key = \"\"  # Replace with key\n",
    "translator = deepl.Translator(auth_key)\n",
    "\n",
    "tracks_non_en['lyrics_trans'] = tracks_non_en['lyrics'].apply(lambda x: translator.translate_text(x,  \n",
    "               target_lang=\"EN-US\") if type(x) == str else x)"
   ]
  },
  {
   "cell_type": "markdown",
   "metadata": {},
   "source": [
    "The translation did not work because the free API version of deepl has a limit of 500.000 characters per month. The pro version costs 4.99€ per month + usage costs, which are 20€ per 1.000.000 characters. As you will see below the number of charactes in the lyrics of non-english songs exceeds this number by far."
   ]
  },
  {
   "cell_type": "code",
   "execution_count": 17,
   "metadata": {},
   "outputs": [
    {
     "data": {
      "text/plain": [
       "22781178"
      ]
     },
     "execution_count": 17,
     "metadata": {},
     "output_type": "execute_result"
    }
   ],
   "source": [
    "#Number of characters in lyrics of non-english songs\n",
    "sum(tracks_non_en['lyrics'].str.len())"
   ]
  },
  {
   "cell_type": "code",
   "execution_count": 21,
   "metadata": {},
   "outputs": [
    {
     "name": "stdout",
     "output_type": "stream",
     "text": [
      "15958773\n"
     ]
    }
   ],
   "source": [
    "lengths = tracks_non_en['lyrics'].str.len()\n",
    "\n",
    "# Filter lengths that are between 1000 & 3000 characters\n",
    "selected_lengths = lengths[(lengths >= 1000) & (lengths <= 3000)]\n",
    "\n",
    "# Sum the selected lengths\n",
    "total_length = selected_lengths.sum()\n",
    "\n",
    "print(total_length)"
   ]
  },
  {
   "cell_type": "code",
   "execution_count": 22,
   "metadata": {},
   "outputs": [
    {
     "data": {
      "text/plain": [
       "Text(0, 0.5, 'Number of Entries')"
      ]
     },
     "execution_count": 22,
     "metadata": {},
     "output_type": "execute_result"
    },
    {
     "data": {
      "image/png": "[encoded data removed]",
      "text/plain": [
       "<Figure size 640x480 with 1 Axes>"
      ]
     },
     "metadata": {},
     "output_type": "display_data"
    }
   ],
   "source": [
    "lengths = tracks_non_en['lyrics'].str.len()\n",
    "\n",
    "# Create a histogram of the lengths\n",
    "plt.hist(lengths, bins=1000, color='blue', edgecolor='black')\n",
    "plt.title(\"Histogram of Lyrics Lengths\")\n",
    "plt.xlabel(\"Length\")\n",
    "plt.ylabel(\"Number of Entries\")\n",
    "\n",
    "# Show the plot"
   ]
  },
  {
   "cell_type": "markdown",
   "metadata": {},
   "source": [
    "We tried to limit the number of songs to translate based on duration, number of characters, language but we couldn't find a combination that would stay below 500.000 characters and make sense to translate. That's why we decided to work only with the english songs."
   ]
  },
  {
   "cell_type": "code",
   "execution_count": null,
   "metadata": {},
   "outputs": [],
   "source": [
    "#save the df with the corresponding langauge as csv,\n",
    "#so we don't have to load the whole csv in further steps\n",
    "tracks_lang.to_csv('data/tracks_spotify_lang.csv', index=False)"
   ]
  }
 ],
 "metadata": {
  "kernelspec": {
   "display_name": "py310",
   "language": "python",
   "name": "python3"
  },
  "language_info": {
   "codemirror_mode": {
    "name": "ipython",
    "version": 3
   },
   "file_extension": ".py",
   "mimetype": "text/x-python",
   "name": "python",
   "nbconvert_exporter": "python",
   "pygments_lexer": "ipython3",
   "version": "3.10.8"
  }
 },
 "nbformat": 4,
 "nbformat_minor": 2
}
