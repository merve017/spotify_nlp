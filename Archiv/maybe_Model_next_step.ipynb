{
 "cells": [
  {
   "cell_type": "code",
   "execution_count": null,
   "metadata": {},
   "outputs": [],
   "source": [
    "#Next step?\n",
    "from sklearn.model_selection import train_test_split\n",
    "from sklearn.ensemble import RandomForestClassifier\n",
    "from sklearn.metrics import classification_report, accuracy_score\n",
    "\n",
    "# Zielvariable (Genres) definieren\n",
    "y = df_artists_ohe['cleaned_genres']\n",
    "\n",
    "# Merkmale definieren\n",
    "X = df_artists_ohe.drop(columns=['cleaned_genres', 'Unnamed: 0', 'genres', 'id', 'name', 'track_id', 'track_name_prev', 'type'])\n",
    "\n",
    "# Daten in Trainings- und Testsets aufteilen\n",
    "X_train, X_test, y_train, y_test = train_test_split(X, y, test_size=0.2, random_state=42)\n",
    "\n",
    "# Modell initialisieren und trainieren\n",
    "model = RandomForestClassifier(n_estimators=100, random_state=42)\n",
    "model.fit(X_train, y_train)\n",
    "\n",
    "# Vorhersagen treffen\n",
    "y_pred = model.predict(X_test)\n",
    "\n",
    "# Modell bewerten\n",
    "print(\"Accuracy: \", accuracy_score(y_test, y_pred))\n",
    "print(\"\\nClassification Report:\\n\", classification_report(y_test, y_pred))\n"
   ]
  }
 ],
 "metadata": {
  "language_info": {
   "name": "python"
  },
  "orig_nbformat": 4
 },
 "nbformat": 4,
 "nbformat_minor": 2
}
